{
 "cells": [
  {
   "cell_type": "code",
   "execution_count": 35,
   "source": [
    "# %%\n",
    "# Python standard library\n",
    "import math\n",
    "import random\n",
    "\n",
    "# custom utils\n",
    "from utils import display_maze\n",
    "from examples.dense_maze_4x3 import maze\n",
    "from itertools import product"
   ],
   "outputs": [],
   "metadata": {}
  },
  {
   "cell_type": "code",
   "execution_count": 36,
   "source": [
    "#display_maze(maze)\n",
    "# set([]) est équivalent à {}\n",
    "\n",
    "vertices=set([\n",
    "    (0,0),\n",
    "    (0,1),\n",
    "    (1,0),\n",
    "    (1,1)\n",
    "])\n",
    "edges=set([\n",
    "    ((0,0),(1,0)),\n",
    "    ((1,0),(0,0)),\n",
    "    ((0,1),(1,1)),\n",
    "    ((1,1),(0,1)),\n",
    "    ((1,1),(1,0)),\n",
    "    ((1,0),(1,1))\n",
    "])\n",
    "   \n",
    "weights={\n",
    "    ((0,0),(0,1)):1,\n",
    "    ((0,1),(0,0)):1\n",
    "}\n",
    "display_maze((vertices,edges,weights))\n"
   ],
   "outputs": [
    {
     "output_type": "display_data",
     "data": {
      "text/plain": [
       "<Figure size 1008x1008 with 1 Axes>"
      ],
      "image/svg+xml": "<?xml version=\"1.0\" encoding=\"utf-8\" standalone=\"no\"?>\n<!DOCTYPE svg PUBLIC \"-//W3C//DTD SVG 1.1//EN\"\n  \"http://www.w3.org/Graphics/SVG/1.1/DTD/svg11.dtd\">\n<svg height=\"775.44pt\" version=\"1.1\" viewBox=\"0 0 795.6 775.44\" width=\"795.6pt\" xmlns=\"http://www.w3.org/2000/svg\" xmlns:xlink=\"http://www.w3.org/1999/xlink\">\n <metadata>\n  <rdf:RDF xmlns:cc=\"http://creativecommons.org/ns#\" xmlns:dc=\"http://purl.org/dc/elements/1.1/\" xmlns:rdf=\"http://www.w3.org/1999/02/22-rdf-syntax-ns#\">\n   <cc:Work>\n    <dc:type rdf:resource=\"http://purl.org/dc/dcmitype/StillImage\"/>\n    <dc:date>2021-11-10T15:17:42.477053</dc:date>\n    <dc:format>image/svg+xml</dc:format>\n    <dc:creator>\n     <cc:Agent>\n      <dc:title>Matplotlib v3.4.3, https://matplotlib.org/</dc:title>\n     </cc:Agent>\n    </dc:creator>\n   </cc:Work>\n  </rdf:RDF>\n </metadata>\n <defs>\n  <style type=\"text/css\">*{stroke-linecap:butt;stroke-linejoin:round;}</style>\n </defs>\n <g id=\"figure_1\">\n  <g id=\"patch_1\">\n   <path d=\"M 0 775.44 \nL 795.6 775.44 \nL 795.6 0 \nL 0 0 \nz\n\" style=\"fill:none;\"/>\n  </g>\n  <g id=\"axes_1\">\n   <g id=\"line2d_1\">\n    <path clip-path=\"url(#pcce9f98e0c)\" d=\"M 42.709091 742.810909 \nL 752.890909 742.810909 \nL 752.890909 32.629091 \nL 42.709091 32.629091 \nL 42.709091 742.810909 \n\" style=\"fill:none;stroke:#000000;stroke-linecap:square;stroke-width:1.5;\"/>\n   </g>\n   <g id=\"line2d_2\">\n    <path clip-path=\"url(#pcce9f98e0c)\" d=\"M 42.709091 387.72 \nL 397.8 387.72 \n\" style=\"fill:none;stroke:#000000;stroke-linecap:square;stroke-width:1.5;\"/>\n   </g>\n   <g id=\"line2d_3\">\n    <path clip-path=\"url(#pcce9f98e0c)\" d=\"M 42.709091 32.629091 \nL 397.8 32.629091 \n\" style=\"fill:none;stroke:#000000;stroke-linecap:square;stroke-width:1.5;\"/>\n   </g>\n   <g id=\"line2d_4\">\n    <path clip-path=\"url(#pcce9f98e0c)\" d=\"M 752.890909 742.810909 \nL 752.890909 387.72 \n\" style=\"fill:none;stroke:#000000;stroke-linecap:square;stroke-width:1.5;\"/>\n   </g>\n   <g id=\"line2d_5\">\n    <path clip-path=\"url(#pcce9f98e0c)\" d=\"M 752.890909 387.72 \nL 752.890909 32.629091 \n\" style=\"fill:none;stroke:#000000;stroke-linecap:square;stroke-width:1.5;\"/>\n   </g>\n   <g id=\"line2d_6\">\n    <path clip-path=\"url(#pcce9f98e0c)\" d=\"M 397.8 32.629091 \nL 752.890909 32.629091 \n\" style=\"fill:none;stroke:#000000;stroke-linecap:square;stroke-width:1.5;\"/>\n   </g>\n  </g>\n </g>\n <defs>\n  <clipPath id=\"pcce9f98e0c\">\n   <rect height=\"761.04\" width=\"781.2\" x=\"7.2\" y=\"7.2\"/>\n  </clipPath>\n </defs>\n</svg>\n",
      "image/png": "[encoded data removed]"
     },
     "metadata": {
      "needs_background": "light"
     }
    }
   ],
   "metadata": {}
  },
  {
   "cell_type": "code",
   "execution_count": 49,
   "source": [
    "#version perso \n",
    "def full_maze(width,height):\n",
    "    liste=[]\n",
    "    for i in range(width):\n",
    "        for j in range(height):\n",
    "            liste.append((i,j))\n",
    "    vertices=set(liste)\n",
    "    edges={}\n",
    "    weights={}\n",
    "    display_maze((vertices,edges,weights))\n",
    "\n",
    "#full_maze(2,2)\n",
    "\n",
    "#autre méthode \n",
    "def full_maze_bis(width,height):\n",
    "    vertices=set(product(range(width),range(height))) #ou vertices={(col,row) for col,row in product(range(width),range(height))}\n",
    "    edges=set()\n",
    "    weights={}\n",
    "    return (\n",
    "        vertices,\n",
    "        edges,\n",
    "        weights\n",
    "    )\n",
    "\n",
    "display_maze((full_maze_bis(10,3)))\n"
   ],
   "outputs": [
    {
     "output_type": "display_data",
     "data": {
      "text/plain": [
       "<Figure size 1008x302.4 with 1 Axes>"
      ],
      "image/svg+xml": "<?xml version=\"1.0\" encoding=\"utf-8\" standalone=\"no\"?>\n<!DOCTYPE svg PUBLIC \"-//W3C//DTD SVG 1.1//EN\"\n  \"http://www.w3.org/Graphics/SVG/1.1/DTD/svg11.dtd\">\n<svg height=\"242.712pt\" version=\"1.1\" viewBox=\"0 0 795.6 242.712\" width=\"795.6pt\" xmlns=\"http://www.w3.org/2000/svg\" xmlns:xlink=\"http://www.w3.org/1999/xlink\">\n <metadata>\n  <rdf:RDF xmlns:cc=\"http://creativecommons.org/ns#\" xmlns:dc=\"http://purl.org/dc/elements/1.1/\" xmlns:rdf=\"http://www.w3.org/1999/02/22-rdf-syntax-ns#\">\n   <cc:Work>\n    <dc:type rdf:resource=\"http://purl.org/dc/dcmitype/StillImage\"/>\n    <dc:date>2021-11-10T15:30:47.889045</dc:date>\n    <dc:format>image/svg+xml</dc:format>\n    <dc:creator>\n     <cc:Agent>\n      <dc:title>Matplotlib v3.4.3, https://matplotlib.org/</dc:title>\n     </cc:Agent>\n    </dc:creator>\n   </cc:Work>\n  </rdf:RDF>\n </metadata>\n <defs>\n  <style type=\"text/css\">*{stroke-linecap:butt;stroke-linejoin:round;}</style>\n </defs>\n <g id=\"figure_1\">\n  <g id=\"patch_1\">\n   <path d=\"M 0 242.712 \nL 795.6 242.712 \nL 795.6 0 \nL 0 0 \nz\n\" style=\"fill:none;\"/>\n  </g>\n  <g id=\"axes_1\">\n   <g id=\"line2d_1\">\n    <path clip-path=\"url(#p36bf911ee9)\" d=\"M 42.709091 227.883273 \nL 752.890909 227.883273 \nL 752.890909 14.828727 \nL 42.709091 14.828727 \nL 42.709091 227.883273 \n\" style=\"fill:none;stroke:#000000;stroke-linecap:square;stroke-width:1.5;\"/>\n   </g>\n   <g id=\"line2d_2\">\n    <path clip-path=\"url(#p36bf911ee9)\" d=\"M 113.727273 227.883273 \nL 113.727273 156.865091 \n\" style=\"fill:none;stroke:#000000;stroke-linecap:square;stroke-width:1.5;\"/>\n   </g>\n   <g id=\"line2d_3\">\n    <path clip-path=\"url(#p36bf911ee9)\" d=\"M 42.709091 156.865091 \nL 113.727273 156.865091 \n\" style=\"fill:none;stroke:#000000;stroke-linecap:square;stroke-width:1.5;\"/>\n   </g>\n   <g id=\"line2d_4\">\n    <path clip-path=\"url(#p36bf911ee9)\" d=\"M 113.727273 156.865091 \nL 113.727273 85.846909 \n\" style=\"fill:none;stroke:#000000;stroke-linecap:square;stroke-width:1.5;\"/>\n   </g>\n   <g id=\"line2d_5\">\n    <path clip-path=\"url(#p36bf911ee9)\" d=\"M 42.709091 85.846909 \nL 113.727273 85.846909 \n\" style=\"fill:none;stroke:#000000;stroke-linecap:square;stroke-width:1.5;\"/>\n   </g>\n   <g id=\"line2d_6\">\n    <path clip-path=\"url(#p36bf911ee9)\" d=\"M 113.727273 85.846909 \nL 113.727273 14.828727 \n\" style=\"fill:none;stroke:#000000;stroke-linecap:square;stroke-width:1.5;\"/>\n   </g>\n   <g id=\"line2d_7\">\n    <path clip-path=\"url(#p36bf911ee9)\" d=\"M 42.709091 14.828727 \nL 113.727273 14.828727 \n\" style=\"fill:none;stroke:#000000;stroke-linecap:square;stroke-width:1.5;\"/>\n   </g>\n   <g id=\"line2d_8\">\n    <path clip-path=\"url(#p36bf911ee9)\" d=\"M 184.745455 227.883273 \nL 184.745455 156.865091 \n\" style=\"fill:none;stroke:#000000;stroke-linecap:square;stroke-width:1.5;\"/>\n   </g>\n   <g id=\"line2d_9\">\n    <path clip-path=\"url(#p36bf911ee9)\" d=\"M 113.727273 156.865091 \nL 184.745455 156.865091 \n\" style=\"fill:none;stroke:#000000;stroke-linecap:square;stroke-width:1.5;\"/>\n   </g>\n   <g id=\"line2d_10\">\n    <path clip-path=\"url(#p36bf911ee9)\" d=\"M 184.745455 156.865091 \nL 184.745455 85.846909 \n\" style=\"fill:none;stroke:#000000;stroke-linecap:square;stroke-width:1.5;\"/>\n   </g>\n   <g id=\"line2d_11\">\n    <path clip-path=\"url(#p36bf911ee9)\" d=\"M 113.727273 85.846909 \nL 184.745455 85.846909 \n\" style=\"fill:none;stroke:#000000;stroke-linecap:square;stroke-width:1.5;\"/>\n   </g>\n   <g id=\"line2d_12\">\n    <path clip-path=\"url(#p36bf911ee9)\" d=\"M 184.745455 85.846909 \nL 184.745455 14.828727 \n\" style=\"fill:none;stroke:#000000;stroke-linecap:square;stroke-width:1.5;\"/>\n   </g>\n   <g id=\"line2d_13\">\n    <path clip-path=\"url(#p36bf911ee9)\" d=\"M 113.727273 14.828727 \nL 184.745455 14.828727 \n\" style=\"fill:none;stroke:#000000;stroke-linecap:square;stroke-width:1.5;\"/>\n   </g>\n   <g id=\"line2d_14\">\n    <path clip-path=\"url(#p36bf911ee9)\" d=\"M 255.763636 227.883273 \nL 255.763636 156.865091 \n\" style=\"fill:none;stroke:#000000;stroke-linecap:square;stroke-width:1.5;\"/>\n   </g>\n   <g id=\"line2d_15\">\n    <path clip-path=\"url(#p36bf911ee9)\" d=\"M 184.745455 156.865091 \nL 255.763636 156.865091 \n\" style=\"fill:none;stroke:#000000;stroke-linecap:square;stroke-width:1.5;\"/>\n   </g>\n   <g id=\"line2d_16\">\n    <path clip-path=\"url(#p36bf911ee9)\" d=\"M 255.763636 156.865091 \nL 255.763636 85.846909 \n\" style=\"fill:none;stroke:#000000;stroke-linecap:square;stroke-width:1.5;\"/>\n   </g>\n   <g id=\"line2d_17\">\n    <path clip-path=\"url(#p36bf911ee9)\" d=\"M 184.745455 85.846909 \nL 255.763636 85.846909 \n\" style=\"fill:none;stroke:#000000;stroke-linecap:square;stroke-width:1.5;\"/>\n   </g>\n   <g id=\"line2d_18\">\n    <path clip-path=\"url(#p36bf911ee9)\" d=\"M 255.763636 85.846909 \nL 255.763636 14.828727 \n\" style=\"fill:none;stroke:#000000;stroke-linecap:square;stroke-width:1.5;\"/>\n   </g>\n   <g id=\"line2d_19\">\n    <path clip-path=\"url(#p36bf911ee9)\" d=\"M 184.745455 14.828727 \nL 255.763636 14.828727 \n\" style=\"fill:none;stroke:#000000;stroke-linecap:square;stroke-width:1.5;\"/>\n   </g>\n   <g id=\"line2d_20\">\n    <path clip-path=\"url(#p36bf911ee9)\" d=\"M 326.781818 227.883273 \nL 326.781818 156.865091 \n\" style=\"fill:none;stroke:#000000;stroke-linecap:square;stroke-width:1.5;\"/>\n   </g>\n   <g id=\"line2d_21\">\n    <path clip-path=\"url(#p36bf911ee9)\" d=\"M 255.763636 156.865091 \nL 326.781818 156.865091 \n\" style=\"fill:none;stroke:#000000;stroke-linecap:square;stroke-width:1.5;\"/>\n   </g>\n   <g id=\"line2d_22\">\n    <path clip-path=\"url(#p36bf911ee9)\" d=\"M 326.781818 156.865091 \nL 326.781818 85.846909 \n\" style=\"fill:none;stroke:#000000;stroke-linecap:square;stroke-width:1.5;\"/>\n   </g>\n   <g id=\"line2d_23\">\n    <path clip-path=\"url(#p36bf911ee9)\" d=\"M 255.763636 85.846909 \nL 326.781818 85.846909 \n\" style=\"fill:none;stroke:#000000;stroke-linecap:square;stroke-width:1.5;\"/>\n   </g>\n   <g id=\"line2d_24\">\n    <path clip-path=\"url(#p36bf911ee9)\" d=\"M 326.781818 85.846909 \nL 326.781818 14.828727 \n\" style=\"fill:none;stroke:#000000;stroke-linecap:square;stroke-width:1.5;\"/>\n   </g>\n   <g id=\"line2d_25\">\n    <path clip-path=\"url(#p36bf911ee9)\" d=\"M 255.763636 14.828727 \nL 326.781818 14.828727 \n\" style=\"fill:none;stroke:#000000;stroke-linecap:square;stroke-width:1.5;\"/>\n   </g>\n   <g id=\"line2d_26\">\n    <path clip-path=\"url(#p36bf911ee9)\" d=\"M 397.8 227.883273 \nL 397.8 156.865091 \n\" style=\"fill:none;stroke:#000000;stroke-linecap:square;stroke-width:1.5;\"/>\n   </g>\n   <g id=\"line2d_27\">\n    <path clip-path=\"url(#p36bf911ee9)\" d=\"M 326.781818 156.865091 \nL 397.8 156.865091 \n\" style=\"fill:none;stroke:#000000;stroke-linecap:square;stroke-width:1.5;\"/>\n   </g>\n   <g id=\"line2d_28\">\n    <path clip-path=\"url(#p36bf911ee9)\" d=\"M 397.8 156.865091 \nL 397.8 85.846909 \n\" style=\"fill:none;stroke:#000000;stroke-linecap:square;stroke-width:1.5;\"/>\n   </g>\n   <g id=\"line2d_29\">\n    <path clip-path=\"url(#p36bf911ee9)\" d=\"M 326.781818 85.846909 \nL 397.8 85.846909 \n\" style=\"fill:none;stroke:#000000;stroke-linecap:square;stroke-width:1.5;\"/>\n   </g>\n   <g id=\"line2d_30\">\n    <path clip-path=\"url(#p36bf911ee9)\" d=\"M 397.8 85.846909 \nL 397.8 14.828727 \n\" style=\"fill:none;stroke:#000000;stroke-linecap:square;stroke-width:1.5;\"/>\n   </g>\n   <g id=\"line2d_31\">\n    <path clip-path=\"url(#p36bf911ee9)\" d=\"M 326.781818 14.828727 \nL 397.8 14.828727 \n\" style=\"fill:none;stroke:#000000;stroke-linecap:square;stroke-width:1.5;\"/>\n   </g>\n   <g id=\"line2d_32\">\n    <path clip-path=\"url(#p36bf911ee9)\" d=\"M 468.818182 227.883273 \nL 468.818182 156.865091 \n\" style=\"fill:none;stroke:#000000;stroke-linecap:square;stroke-width:1.5;\"/>\n   </g>\n   <g id=\"line2d_33\">\n    <path clip-path=\"url(#p36bf911ee9)\" d=\"M 397.8 156.865091 \nL 468.818182 156.865091 \n\" style=\"fill:none;stroke:#000000;stroke-linecap:square;stroke-width:1.5;\"/>\n   </g>\n   <g id=\"line2d_34\">\n    <path clip-path=\"url(#p36bf911ee9)\" d=\"M 468.818182 156.865091 \nL 468.818182 85.846909 \n\" style=\"fill:none;stroke:#000000;stroke-linecap:square;stroke-width:1.5;\"/>\n   </g>\n   <g id=\"line2d_35\">\n    <path clip-path=\"url(#p36bf911ee9)\" d=\"M 397.8 85.846909 \nL 468.818182 85.846909 \n\" style=\"fill:none;stroke:#000000;stroke-linecap:square;stroke-width:1.5;\"/>\n   </g>\n   <g id=\"line2d_36\">\n    <path clip-path=\"url(#p36bf911ee9)\" d=\"M 468.818182 85.846909 \nL 468.818182 14.828727 \n\" style=\"fill:none;stroke:#000000;stroke-linecap:square;stroke-width:1.5;\"/>\n   </g>\n   <g id=\"line2d_37\">\n    <path clip-path=\"url(#p36bf911ee9)\" d=\"M 397.8 14.828727 \nL 468.818182 14.828727 \n\" style=\"fill:none;stroke:#000000;stroke-linecap:square;stroke-width:1.5;\"/>\n   </g>\n   <g id=\"line2d_38\">\n    <path clip-path=\"url(#p36bf911ee9)\" d=\"M 539.836364 227.883273 \nL 539.836364 156.865091 \n\" style=\"fill:none;stroke:#000000;stroke-linecap:square;stroke-width:1.5;\"/>\n   </g>\n   <g id=\"line2d_39\">\n    <path clip-path=\"url(#p36bf911ee9)\" d=\"M 468.818182 156.865091 \nL 539.836364 156.865091 \n\" style=\"fill:none;stroke:#000000;stroke-linecap:square;stroke-width:1.5;\"/>\n   </g>\n   <g id=\"line2d_40\">\n    <path clip-path=\"url(#p36bf911ee9)\" d=\"M 539.836364 156.865091 \nL 539.836364 85.846909 \n\" style=\"fill:none;stroke:#000000;stroke-linecap:square;stroke-width:1.5;\"/>\n   </g>\n   <g id=\"line2d_41\">\n    <path clip-path=\"url(#p36bf911ee9)\" d=\"M 468.818182 85.846909 \nL 539.836364 85.846909 \n\" style=\"fill:none;stroke:#000000;stroke-linecap:square;stroke-width:1.5;\"/>\n   </g>\n   <g id=\"line2d_42\">\n    <path clip-path=\"url(#p36bf911ee9)\" d=\"M 539.836364 85.846909 \nL 539.836364 14.828727 \n\" style=\"fill:none;stroke:#000000;stroke-linecap:square;stroke-width:1.5;\"/>\n   </g>\n   <g id=\"line2d_43\">\n    <path clip-path=\"url(#p36bf911ee9)\" d=\"M 468.818182 14.828727 \nL 539.836364 14.828727 \n\" style=\"fill:none;stroke:#000000;stroke-linecap:square;stroke-width:1.5;\"/>\n   </g>\n   <g id=\"line2d_44\">\n    <path clip-path=\"url(#p36bf911ee9)\" d=\"M 610.854545 227.883273 \nL 610.854545 156.865091 \n\" style=\"fill:none;stroke:#000000;stroke-linecap:square;stroke-width:1.5;\"/>\n   </g>\n   <g id=\"line2d_45\">\n    <path clip-path=\"url(#p36bf911ee9)\" d=\"M 539.836364 156.865091 \nL 610.854545 156.865091 \n\" style=\"fill:none;stroke:#000000;stroke-linecap:square;stroke-width:1.5;\"/>\n   </g>\n   <g id=\"line2d_46\">\n    <path clip-path=\"url(#p36bf911ee9)\" d=\"M 610.854545 156.865091 \nL 610.854545 85.846909 \n\" style=\"fill:none;stroke:#000000;stroke-linecap:square;stroke-width:1.5;\"/>\n   </g>\n   <g id=\"line2d_47\">\n    <path clip-path=\"url(#p36bf911ee9)\" d=\"M 539.836364 85.846909 \nL 610.854545 85.846909 \n\" style=\"fill:none;stroke:#000000;stroke-linecap:square;stroke-width:1.5;\"/>\n   </g>\n   <g id=\"line2d_48\">\n    <path clip-path=\"url(#p36bf911ee9)\" d=\"M 610.854545 85.846909 \nL 610.854545 14.828727 \n\" style=\"fill:none;stroke:#000000;stroke-linecap:square;stroke-width:1.5;\"/>\n   </g>\n   <g id=\"line2d_49\">\n    <path clip-path=\"url(#p36bf911ee9)\" d=\"M 539.836364 14.828727 \nL 610.854545 14.828727 \n\" style=\"fill:none;stroke:#000000;stroke-linecap:square;stroke-width:1.5;\"/>\n   </g>\n   <g id=\"line2d_50\">\n    <path clip-path=\"url(#p36bf911ee9)\" d=\"M 681.872727 227.883273 \nL 681.872727 156.865091 \n\" style=\"fill:none;stroke:#000000;stroke-linecap:square;stroke-width:1.5;\"/>\n   </g>\n   <g id=\"line2d_51\">\n    <path clip-path=\"url(#p36bf911ee9)\" d=\"M 610.854545 156.865091 \nL 681.872727 156.865091 \n\" style=\"fill:none;stroke:#000000;stroke-linecap:square;stroke-width:1.5;\"/>\n   </g>\n   <g id=\"line2d_52\">\n    <path clip-path=\"url(#p36bf911ee9)\" d=\"M 681.872727 156.865091 \nL 681.872727 85.846909 \n\" style=\"fill:none;stroke:#000000;stroke-linecap:square;stroke-width:1.5;\"/>\n   </g>\n   <g id=\"line2d_53\">\n    <path clip-path=\"url(#p36bf911ee9)\" d=\"M 610.854545 85.846909 \nL 681.872727 85.846909 \n\" style=\"fill:none;stroke:#000000;stroke-linecap:square;stroke-width:1.5;\"/>\n   </g>\n   <g id=\"line2d_54\">\n    <path clip-path=\"url(#p36bf911ee9)\" d=\"M 681.872727 85.846909 \nL 681.872727 14.828727 \n\" style=\"fill:none;stroke:#000000;stroke-linecap:square;stroke-width:1.5;\"/>\n   </g>\n   <g id=\"line2d_55\">\n    <path clip-path=\"url(#p36bf911ee9)\" d=\"M 610.854545 14.828727 \nL 681.872727 14.828727 \n\" style=\"fill:none;stroke:#000000;stroke-linecap:square;stroke-width:1.5;\"/>\n   </g>\n   <g id=\"line2d_56\">\n    <path clip-path=\"url(#p36bf911ee9)\" d=\"M 752.890909 227.883273 \nL 752.890909 156.865091 \n\" style=\"fill:none;stroke:#000000;stroke-linecap:square;stroke-width:1.5;\"/>\n   </g>\n   <g id=\"line2d_57\">\n    <path clip-path=\"url(#p36bf911ee9)\" d=\"M 681.872727 156.865091 \nL 752.890909 156.865091 \n\" style=\"fill:none;stroke:#000000;stroke-linecap:square;stroke-width:1.5;\"/>\n   </g>\n   <g id=\"line2d_58\">\n    <path clip-path=\"url(#p36bf911ee9)\" d=\"M 752.890909 156.865091 \nL 752.890909 85.846909 \n\" style=\"fill:none;stroke:#000000;stroke-linecap:square;stroke-width:1.5;\"/>\n   </g>\n   <g id=\"line2d_59\">\n    <path clip-path=\"url(#p36bf911ee9)\" d=\"M 681.872727 85.846909 \nL 752.890909 85.846909 \n\" style=\"fill:none;stroke:#000000;stroke-linecap:square;stroke-width:1.5;\"/>\n   </g>\n   <g id=\"line2d_60\">\n    <path clip-path=\"url(#p36bf911ee9)\" d=\"M 752.890909 85.846909 \nL 752.890909 14.828727 \n\" style=\"fill:none;stroke:#000000;stroke-linecap:square;stroke-width:1.5;\"/>\n   </g>\n   <g id=\"line2d_61\">\n    <path clip-path=\"url(#p36bf911ee9)\" d=\"M 681.872727 14.828727 \nL 752.890909 14.828727 \n\" style=\"fill:none;stroke:#000000;stroke-linecap:square;stroke-width:1.5;\"/>\n   </g>\n  </g>\n </g>\n <defs>\n  <clipPath id=\"p36bf911ee9\">\n   <rect height=\"228.312\" width=\"781.2\" x=\"7.2\" y=\"7.2\"/>\n  </clipPath>\n </defs>\n</svg>\n",
      "image/png": "[encoded data removed]"
     },
     "metadata": {
      "needs_background": "light"
     }
    }
   ],
   "metadata": {}
  },
  {
   "cell_type": "code",
   "execution_count": 54,
   "source": [
    "def empty_maze(width,height):\n",
    "    vertices=set(product(range(width),range(height))) \n",
    "    edges_vert={\n",
    "        ((col,row),(col,row+1))\n",
    "        for col in range(width)\n",
    "        for row in range(height-1)\n",
    "    }\n",
    "\n",
    "    edges_hor={\n",
    "        ((col,row),(col+1,row))\n",
    "        for col in range(width-1)\n",
    "        for row in range(height)\n",
    "    }\n",
    "\n",
    "    edges= edges_vert | edges_hor  # '|' désigne le 'ou' mathématique \n",
    "    weights={\n",
    "        edge:1 for edge in edges \n",
    "    }\n",
    "\n",
    "\n",
    "    return (\n",
    "        vertices,\n",
    "        edges,\n",
    "        weights\n",
    "    )\n",
    "\n",
    "display_maze(empty_maze(10,3))"
   ],
   "outputs": [
    {
     "output_type": "display_data",
     "data": {
      "text/plain": [
       "<Figure size 1008x302.4 with 1 Axes>"
      ],
      "image/svg+xml": "<?xml version=\"1.0\" encoding=\"utf-8\" standalone=\"no\"?>\n<!DOCTYPE svg PUBLIC \"-//W3C//DTD SVG 1.1//EN\"\n  \"http://www.w3.org/Graphics/SVG/1.1/DTD/svg11.dtd\">\n<svg height=\"242.712pt\" version=\"1.1\" viewBox=\"0 0 795.6 242.712\" width=\"795.6pt\" xmlns=\"http://www.w3.org/2000/svg\" xmlns:xlink=\"http://www.w3.org/1999/xlink\">\n <metadata>\n  <rdf:RDF xmlns:cc=\"http://creativecommons.org/ns#\" xmlns:dc=\"http://purl.org/dc/elements/1.1/\" xmlns:rdf=\"http://www.w3.org/1999/02/22-rdf-syntax-ns#\">\n   <cc:Work>\n    <dc:type rdf:resource=\"http://purl.org/dc/dcmitype/StillImage\"/>\n    <dc:date>2021-11-10T16:03:48.154325</dc:date>\n    <dc:format>image/svg+xml</dc:format>\n    <dc:creator>\n     <cc:Agent>\n      <dc:title>Matplotlib v3.4.3, https://matplotlib.org/</dc:title>\n     </cc:Agent>\n    </dc:creator>\n   </cc:Work>\n  </rdf:RDF>\n </metadata>\n <defs>\n  <style type=\"text/css\">*{stroke-linecap:butt;stroke-linejoin:round;}</style>\n </defs>\n <g id=\"figure_1\">\n  <g id=\"patch_1\">\n   <path d=\"M 0 242.712 \nL 795.6 242.712 \nL 795.6 0 \nL 0 0 \nz\n\" style=\"fill:none;\"/>\n  </g>\n  <g id=\"axes_1\">\n   <g id=\"line2d_1\">\n    <path clip-path=\"url(#p3702c21b64)\" d=\"M 42.709091 227.883273 \nL 752.890909 227.883273 \nL 752.890909 14.828727 \nL 42.709091 14.828727 \nL 42.709091 227.883273 \n\" style=\"fill:none;stroke:#000000;stroke-linecap:square;stroke-width:1.5;\"/>\n   </g>\n   <g id=\"line2d_2\">\n    <path clip-path=\"url(#p3702c21b64)\" d=\"M 42.709091 14.828727 \nL 113.727273 14.828727 \n\" style=\"fill:none;stroke:#000000;stroke-linecap:square;stroke-width:1.5;\"/>\n   </g>\n   <g id=\"line2d_3\">\n    <path clip-path=\"url(#p3702c21b64)\" d=\"M 113.727273 14.828727 \nL 184.745455 14.828727 \n\" style=\"fill:none;stroke:#000000;stroke-linecap:square;stroke-width:1.5;\"/>\n   </g>\n   <g id=\"line2d_4\">\n    <path clip-path=\"url(#p3702c21b64)\" d=\"M 184.745455 14.828727 \nL 255.763636 14.828727 \n\" style=\"fill:none;stroke:#000000;stroke-linecap:square;stroke-width:1.5;\"/>\n   </g>\n   <g id=\"line2d_5\">\n    <path clip-path=\"url(#p3702c21b64)\" d=\"M 255.763636 14.828727 \nL 326.781818 14.828727 \n\" style=\"fill:none;stroke:#000000;stroke-linecap:square;stroke-width:1.5;\"/>\n   </g>\n   <g id=\"line2d_6\">\n    <path clip-path=\"url(#p3702c21b64)\" d=\"M 326.781818 14.828727 \nL 397.8 14.828727 \n\" style=\"fill:none;stroke:#000000;stroke-linecap:square;stroke-width:1.5;\"/>\n   </g>\n   <g id=\"line2d_7\">\n    <path clip-path=\"url(#p3702c21b64)\" d=\"M 397.8 14.828727 \nL 468.818182 14.828727 \n\" style=\"fill:none;stroke:#000000;stroke-linecap:square;stroke-width:1.5;\"/>\n   </g>\n   <g id=\"line2d_8\">\n    <path clip-path=\"url(#p3702c21b64)\" d=\"M 468.818182 14.828727 \nL 539.836364 14.828727 \n\" style=\"fill:none;stroke:#000000;stroke-linecap:square;stroke-width:1.5;\"/>\n   </g>\n   <g id=\"line2d_9\">\n    <path clip-path=\"url(#p3702c21b64)\" d=\"M 539.836364 14.828727 \nL 610.854545 14.828727 \n\" style=\"fill:none;stroke:#000000;stroke-linecap:square;stroke-width:1.5;\"/>\n   </g>\n   <g id=\"line2d_10\">\n    <path clip-path=\"url(#p3702c21b64)\" d=\"M 610.854545 14.828727 \nL 681.872727 14.828727 \n\" style=\"fill:none;stroke:#000000;stroke-linecap:square;stroke-width:1.5;\"/>\n   </g>\n   <g id=\"line2d_11\">\n    <path clip-path=\"url(#p3702c21b64)\" d=\"M 752.890909 227.883273 \nL 752.890909 156.865091 \n\" style=\"fill:none;stroke:#000000;stroke-linecap:square;stroke-width:1.5;\"/>\n   </g>\n   <g id=\"line2d_12\">\n    <path clip-path=\"url(#p3702c21b64)\" d=\"M 752.890909 156.865091 \nL 752.890909 85.846909 \n\" style=\"fill:none;stroke:#000000;stroke-linecap:square;stroke-width:1.5;\"/>\n   </g>\n   <g id=\"line2d_13\">\n    <path clip-path=\"url(#p3702c21b64)\" d=\"M 752.890909 85.846909 \nL 752.890909 14.828727 \n\" style=\"fill:none;stroke:#000000;stroke-linecap:square;stroke-width:1.5;\"/>\n   </g>\n   <g id=\"line2d_14\">\n    <path clip-path=\"url(#p3702c21b64)\" d=\"M 681.872727 14.828727 \nL 752.890909 14.828727 \n\" style=\"fill:none;stroke:#000000;stroke-linecap:square;stroke-width:1.5;\"/>\n   </g>\n  </g>\n </g>\n <defs>\n  <clipPath id=\"p3702c21b64\">\n   <rect height=\"228.312\" width=\"781.2\" x=\"7.2\" y=\"7.2\"/>\n  </clipPath>\n </defs>\n</svg>\n",
      "image/png": "[encoded data removed]"
     },
     "metadata": {
      "needs_background": "light"
     }
    }
   ],
   "metadata": {}
  }
 ],
 "metadata": {
  "kernelspec": {
   "name": "python3",
   "display_name": "Python 3.9.7 64-bit ('mazes': conda)"
  },
  "language_info": {
   "codemirror_mode": {
    "name": "ipython",
    "version": 3
   },
   "file_extension": ".py",
   "mimetype": "text/x-python",
   "name": "python",
   "nbconvert_exporter": "python",
   "pygments_lexer": "ipython3",
   "version": "3.9.7"
  },
  "interpreter": {
   "hash": "492d798c3aca00d854372a5f052849e6401b358075f78c1505374f9e07eb8dfd"
  }
 },
 "nbformat": 4,
 "nbformat_minor": 5
}